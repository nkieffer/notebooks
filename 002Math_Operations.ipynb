{
 "cells": [
  {
   "cell_type": "markdown",
   "metadata": {},
   "source": [
    "[ToC](000toc.ipynb)"
   ]
  },
  {
   "cell_type": "markdown",
   "metadata": {},
   "source": [
    "# Math Operations\n",
    "Computers are very good at performing mathematical operations without ever failing. In order to perform most useful computation, all programming languages, including Python, provide this capability. We can use this capability to automate a task in which humans tend to make many mistakes. Automation requires that we know how to precisely express the mathmatical calculation we want the computer to perform.\n",
    "\n",
    "## Four Basic Operations\n",
    "The good news is that if you've made it through elementary school math you are already familiar with many of the concepts and symbols used in computer programming. Here are the symbols used to perform the four basic mathematical operations:\n",
    "<table>\n",
    "    <tr>\n",
    "        <th>Operation</th><th>Symbol</th>\n",
    "    </tr>\n",
    "    <tr>\n",
    "        <td>addition</td><td>+</td>\n",
    "    </tr>\n",
    "    <tr>\n",
    "        <td>subtraction</td><td>-</td>\n",
    "    </tr>\n",
    "    <tr>\n",
    "        <td>multiplication</td><td>*</td>\n",
    "    </tr>\n",
    "    <tr>\n",
    "        <td>division</td><td>/</td>\n",
    "    </tr>\n",
    "</table>\n",
    "\n",
    "Multiplication look a little funny, but addition and subtraction use the same symbols that you learned in first grade. When using Python to perform these math operations you must use the following syntax:\n",
    "\n",
    "\n",
    "<[operand](999Glossary.ipynb#O)> <[operator](999Glossary.ipynb#O)> <[operand](999Glossary.ipynb#O)>\n",
    "\n",
    "\n",
    "\n",
    "***Some Examples***"
   ]
  },
  {
   "cell_type": "code",
   "execution_count": 2,
   "metadata": {},
   "outputs": [
    {
     "data": {
      "text/plain": [
       "5"
      ]
     },
     "execution_count": 2,
     "metadata": {},
     "output_type": "execute_result"
    }
   ],
   "source": [
    "2 + 3"
   ]
  },
  {
   "cell_type": "code",
   "execution_count": 4,
   "metadata": {},
   "outputs": [
    {
     "data": {
      "text/plain": [
       "-3"
      ]
     },
     "execution_count": 4,
     "metadata": {},
     "output_type": "execute_result"
    }
   ],
   "source": [
    "4 - 7"
   ]
  },
  {
   "cell_type": "code",
   "execution_count": 5,
   "metadata": {},
   "outputs": [
    {
     "data": {
      "text/plain": [
       "2.5"
      ]
     },
     "execution_count": 5,
     "metadata": {},
     "output_type": "execute_result"
    }
   ],
   "source": [
    "5 * 2"
   ]
  },
  {
   "cell_type": "code",
   "execution_count": 6,
   "metadata": {},
   "outputs": [
    {
     "data": {
      "text/plain": [
       "1.5"
      ]
     },
     "execution_count": 6,
     "metadata": {},
     "output_type": "execute_result"
    }
   ],
   "source": [
    "3 / 2"
   ]
  },
  {
   "cell_type": "markdown",
   "metadata": {},
   "source": [
    "## Advanced Operations\n",
    "In addition to the four basic operations, Python provides a few more:\n",
    "\n",
    "<table>\n",
    "    <tr>\n",
    "        <th>Operation</th><th>Symbol</th>\n",
    "    </tr>\n",
    "    <tr>\n",
    "        <td>exponent</td><td>**</td>\n",
    "    </tr>\n",
    "    <tr>\n",
    "        <td>modulo</td><td>%</td>\n",
    "    </tr>\n",
    "    <tr>\n",
    "        <td>floor</td><td>//</td>\n",
    "    </tr>\n",
    "</table>\n",
    "\n",
    "***More Examples***"
   ]
  },
  {
   "cell_type": "code",
   "execution_count": 8,
   "metadata": {},
   "outputs": [
    {
     "data": {
      "text/plain": [
       "4"
      ]
     },
     "execution_count": 8,
     "metadata": {},
     "output_type": "execute_result"
    }
   ],
   "source": [
    "2 ** 2"
   ]
  },
  {
   "cell_type": "code",
   "execution_count": 9,
   "metadata": {},
   "outputs": [
    {
     "data": {
      "text/plain": [
       "243"
      ]
     },
     "execution_count": 9,
     "metadata": {},
     "output_type": "execute_result"
    }
   ],
   "source": [
    "3 ** 5"
   ]
  },
  {
   "cell_type": "markdown",
   "metadata": {},
   "source": [
    "***Modulo and Floor Division***\n",
    "\n",
    "Exponents behave the way you are used to. Modulo and floor are both types of division you my not have experience with.\n",
    "\n",
    "Modulo gives you the remainder of the division of the to operators. 5 divided by 2 gives us 2 remainder 1, thus the result will be as follows."
   ]
  },
  {
   "cell_type": "code",
   "execution_count": 14,
   "metadata": {},
   "outputs": [
    {
     "data": {
      "text/plain": [
       "1"
      ]
     },
     "execution_count": 14,
     "metadata": {},
     "output_type": "execute_result"
    }
   ],
   "source": [
    "5 % 2"
   ]
  },
  {
   "cell_type": "markdown",
   "metadata": {},
   "source": [
    "Floor division, on the other hand, always gives us the integer result of division of the 2 operators, disregarding the remainder. 5 divided by 2 gives us 2 remainder 1, this the result  will be as follows:"
   ]
  },
  {
   "cell_type": "code",
   "execution_count": 15,
   "metadata": {},
   "outputs": [
    {
     "data": {
      "text/plain": [
       "2"
      ]
     },
     "execution_count": 15,
     "metadata": {},
     "output_type": "execute_result"
    }
   ],
   "source": [
    "5 // 2"
   ]
  },
  {
   "cell_type": "code",
   "execution_count": null,
   "metadata": {},
   "outputs": [],
   "source": []
  }
 ],
 "metadata": {
  "kernelspec": {
   "display_name": "Python 3",
   "language": "python",
   "name": "python3"
  },
  "language_info": {
   "codemirror_mode": {
    "name": "ipython",
    "version": 3
   },
   "file_extension": ".py",
   "mimetype": "text/x-python",
   "name": "python",
   "nbconvert_exporter": "python",
   "pygments_lexer": "ipython3",
   "version": "3.6.9"
  }
 },
 "nbformat": 4,
 "nbformat_minor": 4
}
