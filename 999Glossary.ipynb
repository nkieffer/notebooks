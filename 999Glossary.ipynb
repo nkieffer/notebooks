{
 "cells": [
  {
   "cell_type": "markdown",
   "metadata": {},
   "source": [
    "# Glossary"
   ]
  },
  {
   "cell_type": "markdown",
   "metadata": {},
   "source": [
    "### F"
   ]
  },
  {
   "cell_type": "markdown",
   "metadata": {},
   "source": [
    "***flow control*** Conditional structures ([`if`, `elif`, `else`](006Conditionals.ipynb) and loops ([`while`](007While_Loops.ipynb), `for`) allow programs to produce different results each time they are run. This process is called flow control."
   ]
  },
  {
   "cell_type": "markdown",
   "metadata": {},
   "source": [
    "# H\n",
    "\n",
    "**heterogeneous** A property of a sequence that states that it may contain data of multiple different types. `tuple`s are often used to contain heterogeneous data.\n",
    "\n",
    "**homogeneous** A property of a sequence that states that it all data contained in it must be of the same type. `list`s are often used to contain homogeneous data."
   ]
  },
  {
   "cell_type": "markdown",
   "metadata": {},
   "source": [
    "## I\n",
    "**immutable** A property of a datatype which states that, once create, the content of the data cannot be changed. `tuple`s and `str`s are both examples of immutable datatypes. See definition for **mutable**.\n",
    "\n",
    "**iteration** The process of performing actions repeatedly a certain number of times or one time for each of a set of values."
   ]
  },
  {
   "cell_type": "markdown",
   "metadata": {},
   "source": [
    "# M\n",
    "\n",
    "**mutable** A property of a datatype which states that the content of the data *can* be changed after creation. `list` is an example of a mutable datatype. See definition for **immutable**."
   ]
  },
  {
   "cell_type": "markdown",
   "metadata": {},
   "source": [
    "# O\n",
    "\n",
    "**operand** a value or variable used in a mathematical operation\n",
    "\n",
    "**operation** the action of performing math using one or more operators and two or more values\n",
    "\n",
    "**operator** the symbol used to signify the math operation to be performed:\n",
    "<table>\n",
    "    <tr>\n",
    "        <th>Operation</th><th>Symbol</th>\n",
    "    </tr>\n",
    "    <tr>\n",
    "        <td>addition</td><td>+</td>\n",
    "    </tr>\n",
    "    <tr>\n",
    "        <td>subtraction</td><td>-</td>\n",
    "    </tr>\n",
    "    <tr>\n",
    "        <td>multiplication</td><td>*</td>\n",
    "    </tr>\n",
    "    <tr>\n",
    "        <td>division</td><td>/</td>\n",
    "    </tr>\n",
    "        <tr>\n",
    "        <th>Operation</th><th>Symbol</th>\n",
    "    </tr>\n",
    "    <tr>\n",
    "        <td>exponent</td><td>**</td>\n",
    "    </tr>\n",
    "    <tr>\n",
    "        <td>modulo</td><td>%</td>\n",
    "    </tr>\n",
    "    <tr>\n",
    "        <td>floor</td><td>//</td>\n",
    "    </tr>\n",
    "</table>"
   ]
  },
  {
   "cell_type": "markdown",
   "metadata": {},
   "source": [
    "# P\n",
    "\n",
    "**packing** The process of putting several discrete values into one `tuple`."
   ]
  },
  {
   "cell_type": "markdown",
   "metadata": {},
   "source": [
    "# U\n",
    "\n",
    "**unpacking** The process of putting the contents of a sequence into discrete variables. "
   ]
  }
 ],
 "metadata": {
  "kernelspec": {
   "display_name": "Python 3",
   "language": "python",
   "name": "python3"
  },
  "language_info": {
   "codemirror_mode": {
    "name": "ipython",
    "version": 3
   },
   "file_extension": ".py",
   "mimetype": "text/x-python",
   "name": "python",
   "nbconvert_exporter": "python",
   "pygments_lexer": "ipython3",
   "version": "3.6.9"
  }
 },
 "nbformat": 4,
 "nbformat_minor": 4
}
