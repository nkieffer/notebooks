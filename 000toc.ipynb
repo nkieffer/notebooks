
{
 "cells": [
  {
   "cell_type": "markdown",
   "metadata": {},
   "source": [
       "# Table of Contents\n",
    "* [Unit 000: toc](000toc.ipynb)\n", "* [Unit 001: Datatypes Values Variables](001Datatypes_Values_Variables.ipynb)\n", "* [Unit 002: Math Operations](002Math_Operations.ipynb)\n", "* [Unit 003: Functions](003Functions.ipynb)\n", "* [Unit 004: Simple Program](004Simple_Program.ipynb)\n", "* [Unit 005: Boolean Expressions](005Boolean_Expressions.ipynb)\n", "* [Unit 006: Conditionals](006Conditionals.ipynb)\n", "* [Unit 007: While Loops](007While_Loops.ipynb)\n", "* [Unit 008: Sequences](008Sequences.ipynb)\n", "* [Unit 010: List Methods](010List_Methods.ipynb)\n", "* [Unit 999: Glossary](999Glossary.ipynb)\n"
    ]
  }
 ],
 "metadata": {
  "kernelspec": {
   "display_name": "Python 3",
   "language": "python",
   "name": "python3"
  },
  "language_info": {
   "codemirror_mode": {
    "name": "ipython",
    "version": 3
   },
   "file_extension": ".py",
   "mimetype": "text/x-python",
   "name": "python",
   "nbconvert_exporter": "python",
   "pygments_lexer": "ipython3",
   "version": "3.6.9"
  }
 },
 "nbformat": 4,
 "nbformat_minor": 4
}
