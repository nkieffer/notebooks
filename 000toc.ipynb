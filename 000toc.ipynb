{
 "cells": [
  {
   "cell_type": "markdown",
   "metadata": {},
   "source": [
    "# Table Of Contents\n",
    "* [Datatypes, Values, Variables](001Datatypes_Values_Variables.ipynb)\n",
    "* [Math Operations](002Math_Operations.ipynb)\n",
    "* [Functions, Builtins, Modules](003Functions.ipynb)\n",
    "* [Simple Program](004Simple_Program.ipynb)\n",
    "* [Boolean Expressions](005Boolean_Expressions.ipynb)\n",
    "* [Conditionals](006Conditionals.ipynb)\n",
    "* [While Loops](007While_Loops.ipynb)"
   ]
  },
  {
   "cell_type": "code",
   "execution_count": null,
   "metadata": {},
   "outputs": [],
   "source": []
  }
 ],
 "metadata": {
  "kernelspec": {
   "display_name": "Python 3",
   "language": "python",
   "name": "python3"
  },
  "language_info": {
   "codemirror_mode": {
    "name": "ipython",
    "version": 3
   },
   "file_extension": ".py",
   "mimetype": "text/x-python",
   "name": "python",
   "nbconvert_exporter": "python",
   "pygments_lexer": "ipython3",
   "version": "3.6.9"
  }
 },
 "nbformat": 4,
 "nbformat_minor": 4
}
