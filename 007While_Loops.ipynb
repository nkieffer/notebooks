{
 "cells": [
  {
   "cell_type": "markdown",
   "metadata": {},
   "source": [
    "[ToC](000toc.ipynb)"
   ]
  },
  {
   "cell_type": "markdown",
   "metadata": {},
   "source": [
    "# While Loops\n",
    "\n",
    "Computers never get bored. They are built to do repetative actions that would surely drive a human insane. We could, for example, give a computer a collection of thousands of movie ratings from Rotten Tomatoes (or a similar system) and have the computer identify all of the movies above some threshold rating. This process of doing something over and over again is called [***iteration***](999Glossary.ipynb).\n",
    "\n",
    "The Python programming language gives us two ways to perform iteration.\n",
    "* While Loops\n",
    "* For Loops\n",
    "We will learn to use while loops first."
   ]
  },
  {
   "cell_type": "markdown",
   "metadata": {},
   "source": [
    "## While Loop Basic Syntax\n",
    "\n",
    "While loops are a [***flow control***](999Glossary.ipynb) structure, just like `if...elif...else` which we used to perform conditional execution. While loops always begin with the keyword `while`. `while` must always be followed by a valid boolean expression and a colon. The while loop must also include a tabbed in block of code that contains at least 1 valid line.\n",
    "\n",
    "```\n",
    "while boolean_expression:\n",
    "    #this block of code must contain at least 1 valid line\n",
    "    pass\n",
    "```"
   ]
  },
  {
   "cell_type": "markdown",
   "metadata": {},
   "source": [
    "## While Loop Basic Operation\n",
    "While loops work as follows:\n",
    "1. reads the keyword `while`.\n",
    "2. evaluates the boolean expression. \n",
    "3. If the expression is `True`, the interpreter executes the block of code and goes back to step 2. \n",
    "4. If the expression is `False` the interpreter skips down to the first unindented line of code. "
   ]
  },
  {
   "cell_type": "markdown",
   "metadata": {},
   "source": [
    "## While Loop Examples"
   ]
  },
  {
   "cell_type": "markdown",
   "metadata": {},
   "source": [
    "Let's look at some basic examples of while loops that use the most basic of boolean expressions.\n",
    "\n",
    "***Example 1***\n",
    "```\n",
    "while False:\n",
    "    print(\"looping\")\n",
    "```\n",
    "Think about the 4 steps above. How many times do you think this will print the word \"looping\". \n",
    "\n",
    "1. keyword `while` is encountered\n",
    "2. boolean expression evaluates to `False`.\n",
    "3. skip the block and continue on the first unidented line.\n",
    "If you guessed that example 1 would never print \"looping\" you were correct.\n",
    "\n",
    "***Example 2***\n",
    "```\n",
    "while True:\n",
    "    print(\"looping\")\n",
    "```\n",
    "Again, considering the 4 steps, how many times will this loop print out the word \"looping\".\n",
    "1. keyword `while` is encountered\n",
    "2. boolean expression evaluates to `True`.\n",
    "3. execute the block and return to step 2.\n",
    "\n",
    "If you guessed that example 2 would print \"looping\" forever, you were correct. This is called and ***infinite loop***. If you have infinite loops in your code, it will cause the program to get stuck at that point and never finish the process it is intended to perform. \n"
   ]
  },
  {
   "cell_type": "markdown",
   "metadata": {},
   "source": [
    "## More Useful While Loop Examples\n",
    "The examples 1 and 2 illustrate the basic operation of while loops but they are as useless as they appear. In order for a while loop to do useful work, they need to be able to run some of the time and then stop. \n",
    "\n",
    "***Example 3: Countdown***"
   ]
  },
  {
   "cell_type": "code",
   "execution_count": 1,
   "metadata": {},
   "outputs": [
    {
     "name": "stdout",
     "output_type": "stream",
     "text": [
      "Starting\n",
      "10\n",
      "9\n",
      "8\n",
      "7\n",
      "6\n",
      "5\n",
      "4\n",
      "3\n",
      "2\n",
      "1\n",
      "Finished\n"
     ]
    }
   ],
   "source": [
    "print(\"Starting\")\n",
    "x = 10\n",
    "while x > 0:\n",
    "    print(x)\n",
    "    x -= 1\n",
    "print(\"Finished\")"
   ]
  },
  {
   "cell_type": "markdown",
   "metadata": {},
   "source": [
    "1. In example 3 we create a variable that contains the `int` value 10. \n",
    "2. Encounter `while`\n",
    "3. Evaluate the boolean expression replacing the variable x with its `int` value `10`\n",
    "4. If expression is `True`, the block of code is executed. Decrement x and return to step 3.\n",
    "5. If expression is `False`, the block of code is skipped and execution continues at the first unindented line."
   ]
  },
  {
   "cell_type": "markdown",
   "metadata": {},
   "source": [
    "***Example 4: Countup***"
   ]
  },
  {
   "cell_type": "code",
   "execution_count": 2,
   "metadata": {},
   "outputs": [
    {
     "name": "stdout",
     "output_type": "stream",
     "text": [
      "Starting\n",
      "0\n",
      "1\n",
      "2\n",
      "3\n",
      "4\n",
      "5\n",
      "6\n",
      "7\n",
      "8\n",
      "9\n",
      "Finished\n"
     ]
    }
   ],
   "source": [
    "print(\"Starting\")\n",
    "x = 0\n",
    "while x < 10:\n",
    "    print(x)\n",
    "    x += 1\n",
    "print(\"Finished\")"
   ]
  },
  {
   "cell_type": "markdown",
   "metadata": {},
   "source": [
    "1. In example 3 we create a variable that contains the `int` value 10. \n",
    "2. Encounter `while`\n",
    "3. Evaluate the boolean expression replacing the variable x with its `int` value `0`\n",
    "4. If expression is `True`, the block of code is executed. Increment x and return to step 3.\n",
    "5. If expression is `False`, the block of code is skipped and execution continues at the first unindented line."
   ]
  },
  {
   "cell_type": "markdown",
   "metadata": {},
   "source": [
    "***Example 5: Start, Stop, Step (Going Up!)***"
   ]
  },
  {
   "cell_type": "code",
   "execution_count": 3,
   "metadata": {},
   "outputs": [
    {
     "name": "stdout",
     "output_type": "stream",
     "text": [
      "Starting\n",
      "-10\n",
      "-8\n",
      "-6\n",
      "-4\n",
      "-2\n",
      "0\n",
      "2\n",
      "4\n",
      "6\n",
      "8\n",
      "Finished\n"
     ]
    }
   ],
   "source": [
    "print(\"Starting\")\n",
    "start = -10\n",
    "stop = 10\n",
    "step = 2\n",
    "while start < stop:\n",
    "    print(start)\n",
    "    start += step\n",
    "print(\"Finished\")"
   ]
  },
  {
   "cell_type": "markdown",
   "metadata": {},
   "source": [
    "This example is similar to example 3. The only difference is that rather than incrementing by 1 everytime, the value is incremented by 2. We can produce many difference sequences of numbers using this start, stop, step pattern."
   ]
  },
  {
   "cell_type": "markdown",
   "metadata": {},
   "source": [
    "***Example 6: Start, Stop, Step (Going Down!)***"
   ]
  },
  {
   "cell_type": "code",
   "execution_count": 4,
   "metadata": {},
   "outputs": [
    {
     "name": "stdout",
     "output_type": "stream",
     "text": [
      "Starting\n",
      "10\n",
      "8\n",
      "6\n",
      "4\n",
      "2\n",
      "0\n",
      "-2\n",
      "-4\n",
      "-6\n",
      "-8\n",
      "-10\n",
      "Finished\n"
     ]
    }
   ],
   "source": [
    "print(\"Starting\")\n",
    "start = 10\n",
    "stop = -10\n",
    "step = 2\n",
    "while start >= stop:\n",
    "    print(start)\n",
    "    start -= step\n",
    "print(\"Finished\")"
   ]
  },
  {
   "cell_type": "markdown",
   "metadata": {},
   "source": [
    "***Example 7: Comparing Strings***"
   ]
  },
  {
   "cell_type": "code",
   "execution_count": 5,
   "metadata": {},
   "outputs": [
    {
     "name": "stdout",
     "output_type": "stream",
     "text": [
      "Starting\n"
     ]
    },
    {
     "name": "stdin",
     "output_type": "stream",
     "text": [
      "Type a letter:  a\n"
     ]
    },
    {
     "name": "stdout",
     "output_type": "stream",
     "text": [
      "You typed 'a'.\n",
      "You didn't type 'q'.\n"
     ]
    },
    {
     "name": "stdin",
     "output_type": "stream",
     "text": [
      "Type a letter:  b\n"
     ]
    },
    {
     "name": "stdout",
     "output_type": "stream",
     "text": [
      "You typed 'b'.\n",
      "You didn't type 'q'.\n"
     ]
    },
    {
     "name": "stdin",
     "output_type": "stream",
     "text": [
      "Type a letter:  c\n"
     ]
    },
    {
     "name": "stdout",
     "output_type": "stream",
     "text": [
      "You typed 'c'.\n",
      "You didn't type 'q'.\n"
     ]
    },
    {
     "name": "stdin",
     "output_type": "stream",
     "text": [
      "Type a letter:  q\n"
     ]
    },
    {
     "name": "stdout",
     "output_type": "stream",
     "text": [
      "Finished\n"
     ]
    }
   ],
   "source": [
    "print(\"Starting\")\n",
    "letter = input(\"Type a letter: \")\n",
    "while letter != \"q\":\n",
    "    print(f\"You typed '{letter}'.\")\n",
    "    print(\"You didn't type 'q'.\")\n",
    "    letter = input(\"Type a letter: \")\n",
    "print(\"Finished\")"
   ]
  },
  {
   "cell_type": "markdown",
   "metadata": {},
   "source": [
    "You are not limited to comparing numbers in the boolean expressions. You compare values from `input` to control how many times the loop repeats. This is very useful when designing user interfaces for text-based programs."
   ]
  },
  {
   "cell_type": "code",
   "execution_count": null,
   "metadata": {},
   "outputs": [],
   "source": []
  }
 ],
 "metadata": {
  "kernelspec": {
   "display_name": "Python 3",
   "language": "python",
   "name": "python3"
  },
  "language_info": {
   "codemirror_mode": {
    "name": "ipython",
    "version": 3
   },
   "file_extension": ".py",
   "mimetype": "text/x-python",
   "name": "python",
   "nbconvert_exporter": "python",
   "pygments_lexer": "ipython3",
   "version": "3.6.9"
  }
 },
 "nbformat": 4,
 "nbformat_minor": 4
}
