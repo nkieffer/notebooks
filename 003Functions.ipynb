{
 "cells": [
  {
   "cell_type": "markdown",
   "metadata": {},
   "source": [
    "[ToC](000toc.ipynb)"
   ]
  },
  {
   "cell_type": "markdown",
   "metadata": {},
   "source": [
    "# Functions\n",
    "\n",
    "## Analogy\n",
    "\n",
    "A function is like a vending machine. When you want to use a vending machine you put coins into the coinslot and type in the code for the item you want to purchase. If you put in at least the amount of money that your item costs you will receive your item and change back from the machine. If you put in insufficient money you will not get your item. If you type in the wrong code, you may receive a different item than what you wanted.\n",
    "\n",
    "## Technical Definition\n",
    "\n",
    "A function is a named block of code that is stored in memory and can be retrieved and called upon to perform a specific computation which returns a value when finished. \n",
    "\n",
    "The act of retrieving the function from memory and executing its code is refered to as **calling** a function. Sometimes when you call a function you must give it some values that it needs in order to perform its computation. These are refered to as **arguments**. The value that you receive as a result of the call to the function is refered to as a **return value**.\n",
    "\n",
    "## Using Functions\n",
    "\n",
    "Python provides many functions that are built-in. They are built in to the interpretter and wait in memory until you call them. The first function you've used is `print`. You call the `print` function as below."
   ]
  },
  {
   "cell_type": "code",
   "execution_count": 2,
   "metadata": {},
   "outputs": [
    {
     "name": "stdout",
     "output_type": "stream",
     "text": [
      "Hello, World!\n"
     ]
    }
   ],
   "source": [
    "print(\"Hello, World!\")"
   ]
  },
  {
   "cell_type": "markdown",
   "metadata": {},
   "source": [
    "### Function Names\n",
    "Like all functions `print` has a name. The name of the `print` function is, of course, \"print\". The name of the function tells us what the function does. The `print` function prints to the output terminal. All functions have a name, just like variables. That is the named location in memory where the code for the function gets stored.\n",
    "\n",
    "### Function arguments\n",
    "After the function name comes a pair of parentheses that contain 0 or more **arguments**. The arguments are the data that the function requires to perform its computation. The actual number of arguments that are required vary from function to function and depend on the computation that the function performs. The `print` function takes 1 argument: the value that you want to see displayed in the output terminal.\n",
    "\n",
    "### Return Values\n",
    "Functions give you a value back when it finishes its computation. Most functions give you a value from one of the datatypes you've already learned about (`bool`, `int`, `float`, `str`, `tuple`, `list`). Some functions return a special new type of data: `NoneType`. There is only one value possible from `NoneType`: `None`. The value `None` indicates that the function is not intended to produce a useful value, but is used only to produce a side-effect: printing to the output terminal. We can capture the return value of a function call by storing it in a variable as seen below."
   ]
  },
  {
   "cell_type": "code",
   "execution_count": 1,
   "metadata": {},
   "outputs": [
    {
     "name": "stdout",
     "output_type": "stream",
     "text": [
      "Hello, World!\n",
      "None\n"
     ]
    }
   ],
   "source": [
    "r = print(\"Hello, World!\")\n",
    "print(r)"
   ]
  },
  {
   "cell_type": "markdown",
   "metadata": {},
   "source": [
    "The return value of the call to `print` was stored in the variable a`r`. We can then print out the value to see what it is: `None`.\n",
    "\n",
    "## Determinism\n",
    "\n",
    "Functions have the property of being deterministic. This means that for a given function and a given argument it will *always* return the same value."
   ]
  },
  {
   "cell_type": "markdown",
   "metadata": {},
   "source": [
    "## More Builtin Functions\n",
    "\n",
    "Python provides many built-in functions which provide commonly used computations that you do not need to code yourself.\n",
    "\n",
    "### `type`\n",
    "\n",
    "The `type` function takes on value as an argument and returns the datatype of that argument"
   ]
  },
  {
   "cell_type": "code",
   "execution_count": 2,
   "metadata": {},
   "outputs": [
    {
     "name": "stdout",
     "output_type": "stream",
     "text": [
      "<class 'int'>\n"
     ]
    }
   ],
   "source": [
    "x = 1\n",
    "xt = type(x)\n",
    "print(xt)"
   ]
  },
  {
   "cell_type": "code",
   "execution_count": 8,
   "metadata": {},
   "outputs": [
    {
     "name": "stdout",
     "output_type": "stream",
     "text": [
      "<class 'float'>\n"
     ]
    }
   ],
   "source": [
    "x = 3.14\n",
    "xt = type(x)\n",
    "print(xt)"
   ]
  },
  {
   "cell_type": "code",
   "execution_count": 9,
   "metadata": {},
   "outputs": [
    {
     "name": "stdout",
     "output_type": "stream",
     "text": [
      "<class 'list'>\n"
     ]
    }
   ],
   "source": [
    "x = [\"yes\", \"no\", \"maybe\"]\n",
    "xt = type(x)\n",
    "print(xt)"
   ]
  },
  {
   "cell_type": "markdown",
   "metadata": {},
   "source": [
    "## `round`\n",
    "\n",
    "The `round` function rounds a float value to a specified number of decimal places. It requires 1 or 2 arguments but behaves differently in each case."
   ]
  },
  {
   "cell_type": "code",
   "execution_count": 12,
   "metadata": {},
   "outputs": [
    {
     "data": {
      "text/plain": [
       "3"
      ]
     },
     "execution_count": 12,
     "metadata": {},
     "output_type": "execute_result"
    }
   ],
   "source": [
    "x = 3.14\n",
    "y = round(x)\n",
    "y"
   ]
  },
  {
   "cell_type": "code",
   "execution_count": 13,
   "metadata": {},
   "outputs": [
    {
     "data": {
      "text/plain": [
       "3.1"
      ]
     },
     "execution_count": 13,
     "metadata": {},
     "output_type": "execute_result"
    }
   ],
   "source": [
    "x = 3.14\n",
    "y = round(x, 1)\n",
    "y"
   ]
  },
  {
   "cell_type": "code",
   "execution_count": 14,
   "metadata": {},
   "outputs": [
    {
     "data": {
      "text/plain": [
       "5.235"
      ]
     },
     "execution_count": 14,
     "metadata": {},
     "output_type": "execute_result"
    }
   ],
   "source": [
    "x = 5.234523452345\n",
    "y = round(x, 3)\n",
    "y"
   ]
  },
  {
   "cell_type": "markdown",
   "metadata": {},
   "source": [
    "## Type Conversion Functions\n",
    "\n",
    "Each datatype that you've learned about so far (`bool`, `int`, `float`, `str`, etc.) has a corresponding type conversion function that can be used to convert data to that type. Each function has a set of rules for how it converts each type of data.\n",
    "\n",
    "|  | `bool()` conversion function | `int()` conversion function | `float()` conversion function | `str()` conversion function |\n",
    "| :---- | :---- | :---- | :---- | :---- |\n",
    "| `bool` as argument | returns the argument | `False` -> `0`<br> `True`-> `1` | `False` -> `0.0`<br> `True` -> `1.0` | `False` -> `\"False\"`<br> `True` -> `\"True\"`|\n",
    "| `int` as argument | `0` -> `False`<br>non-`0` -> `True` | returns the argument | returns the argument<br>with `.0` appended | returns the argument in quotes |\n",
    "| `float` as argument | `0.0` -> `False`<br>non-`0.0` -> `True` | returns the argument<br>with the decimal part removed | returns the argument | returns the argument in quotes |\n",
    "| `str` as argument | Empty string (`\"\"`) -> `False`<br> Non-Empty string -> `True` | if the `str` looks like an `int`, return the `int`<br>Otherwise `ValueError` |  if the `str` looks like an `float`, return the `float`<br>Otherwise `ValueError`  | returns the argument |\n",
    "| No argument | `False` | `0` | `0.0` | `\"\"` |\n",
    "\n",
    "You can now attempt to answer the questions in [this repl](https://replit.com/@nathankieffer/TypeConversion?embed=1&output=1#main.py).\n"
   ]
  },
  {
   "cell_type": "markdown",
   "metadata": {},
   "source": [
    "## Standard Library Modules\n",
    "\n",
    "In addition to the builtin functions that are available by default, Python also provides a standard library of pre-built functions that you can use in your scripts. This saves you time and effort because the standard library includes dozens of modules containing hundreds of functions that perform common computations tasks.\n",
    "\n",
    "You can find a list of all of the standard library modules [here](https://docs.python.org/3/library/).\n",
    "\n",
    "To use a module from the standard library in your scripts you will first need to `import`. Let's use the `math` module from the standard library.\n",
    "\n",
    "After you `import`, you can use the `dir()` function to see the contents of the module.\n",
    "\n",
    "Each item in the list can be accessed using \"dot notation\". See the example below."
   ]
  },
  {
   "cell_type": "code",
   "execution_count": 3,
   "metadata": {},
   "outputs": [
    {
     "data": {
      "text/plain": [
       "['__doc__',\n",
       " '__loader__',\n",
       " '__name__',\n",
       " '__package__',\n",
       " '__spec__',\n",
       " 'acos',\n",
       " 'acosh',\n",
       " 'asin',\n",
       " 'asinh',\n",
       " 'atan',\n",
       " 'atan2',\n",
       " 'atanh',\n",
       " 'ceil',\n",
       " 'copysign',\n",
       " 'cos',\n",
       " 'cosh',\n",
       " 'degrees',\n",
       " 'e',\n",
       " 'erf',\n",
       " 'erfc',\n",
       " 'exp',\n",
       " 'expm1',\n",
       " 'fabs',\n",
       " 'factorial',\n",
       " 'floor',\n",
       " 'fmod',\n",
       " 'frexp',\n",
       " 'fsum',\n",
       " 'gamma',\n",
       " 'gcd',\n",
       " 'hypot',\n",
       " 'inf',\n",
       " 'isclose',\n",
       " 'isfinite',\n",
       " 'isinf',\n",
       " 'isnan',\n",
       " 'ldexp',\n",
       " 'lgamma',\n",
       " 'log',\n",
       " 'log10',\n",
       " 'log1p',\n",
       " 'log2',\n",
       " 'modf',\n",
       " 'nan',\n",
       " 'pi',\n",
       " 'pow',\n",
       " 'radians',\n",
       " 'remainder',\n",
       " 'sin',\n",
       " 'sinh',\n",
       " 'sqrt',\n",
       " 'tan',\n",
       " 'tanh',\n",
       " 'tau',\n",
       " 'trunc']"
      ]
     },
     "execution_count": 3,
     "metadata": {},
     "output_type": "execute_result"
    }
   ],
   "source": [
    "import math\n",
    "dir(math)"
   ]
  },
  {
   "cell_type": "code",
   "execution_count": 4,
   "metadata": {},
   "outputs": [
    {
     "data": {
      "text/plain": [
       "<function math.sin(x, /)>"
      ]
     },
     "execution_count": 4,
     "metadata": {},
     "output_type": "execute_result"
    }
   ],
   "source": [
    "math.sin"
   ]
  },
  {
   "cell_type": "code",
   "execution_count": 5,
   "metadata": {},
   "outputs": [
    {
     "data": {
      "text/plain": [
       "3.141592653589793"
      ]
     },
     "execution_count": 5,
     "metadata": {},
     "output_type": "execute_result"
    }
   ],
   "source": [
    "math.pi"
   ]
  },
  {
   "cell_type": "code",
   "execution_count": null,
   "metadata": {},
   "outputs": [],
   "source": []
  },
  {
   "cell_type": "markdown",
   "metadata": {},
   "source": [
    "In the 2 lines above, `math.sin` shows us that it is a function and `math.pi` is a `float`.\n",
    "If the item is a function we can use the `help()` function to get documentation about this function."
   ]
  },
  {
   "cell_type": "code",
   "execution_count": 7,
   "metadata": {},
   "outputs": [
    {
     "name": "stdout",
     "output_type": "stream",
     "text": [
      "Help on built-in function sin in module math:\n",
      "\n",
      "sin(x, /)\n",
      "    Return the sine of x (measured in radians).\n",
      "\n"
     ]
    }
   ],
   "source": [
    "help(math.sin)"
   ]
  },
  {
   "cell_type": "markdown",
   "metadata": {},
   "source": [
    "The help documentation shows us how to call the function. `math.sin` need 1 argument to call it. You can call it as follows:"
   ]
  },
  {
   "cell_type": "code",
   "execution_count": 8,
   "metadata": {},
   "outputs": [
    {
     "data": {
      "text/plain": [
       "-0.7568024953079282"
      ]
     },
     "execution_count": 8,
     "metadata": {},
     "output_type": "execute_result"
    }
   ],
   "source": [
    "math.sin(4)"
   ]
  },
  {
   "cell_type": "markdown",
   "metadata": {},
   "source": [
    "You can now explore and use any modules from the standard library. Try importing and using the following modules:\n",
    "- math\n",
    "- random\n",
    "- time\n",
    "\n",
    "Find their contents with `dir()` and get the help documentation for each item in the module with `help()`."
   ]
  }
 ],
 "metadata": {
  "kernelspec": {
   "display_name": "Python 3 (ipykernel)",
   "language": "python",
   "name": "python3"
  },
  "language_info": {
   "codemirror_mode": {
    "name": "ipython",
    "version": 3
   },
   "file_extension": ".py",
   "mimetype": "text/x-python",
   "name": "python",
   "nbconvert_exporter": "python",
   "pygments_lexer": "ipython3",
   "version": "3.7.3"
  }
 },
 "nbformat": 4,
 "nbformat_minor": 4
}
