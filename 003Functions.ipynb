{
 "cells": [
  {
   "cell_type": "markdown",
   "metadata": {},
   "source": [
    "[ToC](000toc.ipynb)"
   ]
  },
  {
   "cell_type": "markdown",
   "metadata": {},
   "source": [
    "# Functions\n",
    "\n",
    "## Analogy\n",
    "\n",
    "A function is like a vending machine. When you want to use a vending machine you put coins into the coinslot and type in the code for the item you want to purchase. If you put in at least the amount of money that your item costs you will receive your item and change back from the machine. If you put in insufficient money you will not get your item. If you type in the wrong code, you may receive a different item than what you wanted.\n",
    "\n",
    "## Technical Definition\n",
    "\n",
    "A function is a named block of code that is stored in memory and can be retrieved and called upon to perform a specific computation which returns a value when finished. \n",
    "\n",
    "The act of retrieving the function from memory and executing its code is refered to as **calling** a function. Sometimes when you call a function you must give it some values that it needs in order to perform its computation. These are refered to as **arguments**. The value that you receive as a result of the call to the function is refered to as a **return value**.\n",
    "\n",
    "## Using Functions\n",
    "\n",
    "Python provides many functions that are built-in. They are built in to the interpretter and wait in memory until you call them. The first function you've used is `print`. You call the `print` function as below."
   ]
  },
  {
   "cell_type": "code",
   "execution_count": 2,
   "metadata": {},
   "outputs": [
    {
     "name": "stdout",
     "output_type": "stream",
     "text": [
      "Hello, World!\n"
     ]
    }
   ],
   "source": [
    "print(\"Hello, World!\")"
   ]
  },
  {
   "cell_type": "markdown",
   "metadata": {},
   "source": [
    "### Function Names\n",
    "Like all functions `print` has a name. The name of the `print` function is, of course, \"print\". The name of the function tells us what the function does. The `print` function prints to the output terminal. All functions have a name, just like variables. That is the named location in memory where the code for the function gets stored.\n",
    "\n",
    "### Function arguments\n",
    "After the function name comes a pair of parentheses that contain 0 or more **arguments**. The arguments are the data that the function requires to perform its computation. The actual number of arguments that are required vary from function to function and depend on the computation that the function performs. The `print` function takes 1 argument: the value that you want to see displayed in the output terminal.\n",
    "\n",
    "### Return Values\n",
    "Functions give you a value back when it finishes its computation. Most functions give you a value from one of the datatypes you've already learned about (`bool`, `int`, `float`, `str`, `tuple`, `list`). Some functions return a special new type of data: `NoneType`. There is only one value possible from `NoneType`: `None`. The value `None` indicates that the function is not intended to produce a useful value, but is used only to produce a side-effect: printing to the output terminal. We can capture the return value of a function call by storing it in a variable as seen below."
   ]
  },
  {
   "cell_type": "code",
   "execution_count": 1,
   "metadata": {},
   "outputs": [
    {
     "name": "stdout",
     "output_type": "stream",
     "text": [
      "Hello, World!\n",
      "None\n"
     ]
    }
   ],
   "source": [
    "r = print(\"Hello, World!\")\n",
    "print(r)"
   ]
  },
  {
   "cell_type": "markdown",
   "metadata": {},
   "source": [
    "The return value of the call to `print` was stored in the variable a`r`. We can then print out the value to see what it is: `None`.\n",
    "\n",
    "## Determinism\n",
    "\n",
    "Functions have the property of being deterministic. This means that for a given function and a given argument it will *always* return the same value."
   ]
  },
  {
   "cell_type": "markdown",
   "metadata": {},
   "source": [
    "## More Builtin Functions\n",
    "\n",
    "Python provides many built-in functions which provide commonly used computations that you do not need to code yourself.\n",
    "\n",
    "### `type`\n",
    "\n",
    "The `type` function takes on value as an argument and returns the datatype of that argument"
   ]
  },
  {
   "cell_type": "code",
   "execution_count": 2,
   "metadata": {},
   "outputs": [
    {
     "name": "stdout",
     "output_type": "stream",
     "text": [
      "<class 'int'>\n"
     ]
    }
   ],
   "source": [
    "x = 1\n",
    "xt = type(x)\n",
    "print(xt)"
   ]
  },
  {
   "cell_type": "code",
   "execution_count": 8,
   "metadata": {},
   "outputs": [
    {
     "name": "stdout",
     "output_type": "stream",
     "text": [
      "<class 'float'>\n"
     ]
    }
   ],
   "source": [
    "x = 3.14\n",
    "xt = type(x)\n",
    "print(xt)"
   ]
  },
  {
   "cell_type": "code",
   "execution_count": 9,
   "metadata": {},
   "outputs": [
    {
     "name": "stdout",
     "output_type": "stream",
     "text": [
      "<class 'list'>\n"
     ]
    }
   ],
   "source": [
    "x = [\"yes\", \"no\", \"maybe\"]\n",
    "xt = type(x)\n",
    "print(xt)"
   ]
  },
  {
   "cell_type": "markdown",
   "metadata": {},
   "source": [
    "## `round`\n",
    "\n",
    "The `round` function rounds a float value to a specified number of decimal places. It requires 1 or 2 arguments but behaves differently in each case."
   ]
  },
  {
   "cell_type": "code",
   "execution_count": 12,
   "metadata": {},
   "outputs": [
    {
     "data": {
      "text/plain": [
       "3"
      ]
     },
     "execution_count": 12,
     "metadata": {},
     "output_type": "execute_result"
    }
   ],
   "source": [
    "x = 3.14\n",
    "y = round(x)\n",
    "y"
   ]
  },
  {
   "cell_type": "code",
   "execution_count": 13,
   "metadata": {},
   "outputs": [
    {
     "data": {
      "text/plain": [
       "3.1"
      ]
     },
     "execution_count": 13,
     "metadata": {},
     "output_type": "execute_result"
    }
   ],
   "source": [
    "x = 3.14\n",
    "y = round(x, 1)\n",
    "y"
   ]
  },
  {
   "cell_type": "code",
   "execution_count": 14,
   "metadata": {},
   "outputs": [
    {
     "data": {
      "text/plain": [
       "5.235"
      ]
     },
     "execution_count": 14,
     "metadata": {},
     "output_type": "execute_result"
    }
   ],
   "source": [
    "x = 5.234523452345\n",
    "y = round(x, 3)\n",
    "y"
   ]
  },
  {
   "cell_type": "markdown",
   "metadata": {},
   "source": [
    "## Type Conversion Functions\n",
    "\n",
    "Each datatype that you've learned about so far (`bool`, `int`, `float`, `str`, etc.) has a corresponding type conversion function that can be used to convert data to that type. Each function has a set of rules for how it converts each type of data.\n",
    "\n",
    "|  | `bool()` conversion function | `int()` conversion function | `float()` conversion function | `str()` conversion function |\n",
    "| :---- | :---- | :---- | :---- | :---- |\n",
    "| `bool` as argument | returns the argument | `False` -> `0`<br> `True`-> `1` | `False` -> `0.0`<br> `True` -> `1.0` | `False` -> `\"False\"`<br> `True` -> `\"True\"`|\n",
    "| `int` as argument | `0` -> `False`<br>non-`0` -> `True` | returns the argument | returns the argument<br>with `.0` appended | returns the argument in quotes |\n",
    "| `float` as argument | `0.0` -> `False`<br>non-`0.0` -> `True` | returns the argument<br>with the decimal part removed | returns the argument | returns the argument in quotes |\n",
    "| `str` as argument | Empty string (`\"\"`) -> `False`<br> Non-Empty string -> `True` | if the `str` looks like an `int`, return the `int`<br>Otherwise `ValueError` |  if the `str` looks like an `float`, return the `float`<br>Otherwise `ValueError`  | returns the argument |\n",
    "| No argument | `False` | `0` | `0.0` | `\"\"` |"
   ]
  },
  {
   "cell_type": "code",
   "execution_count": null,
   "metadata": {},
   "outputs": [],
   "source": []
  }
 ],
 "metadata": {
  "kernelspec": {
   "display_name": "Python 3 (ipykernel)",
   "language": "python",
   "name": "python3"
  },
  "language_info": {
   "codemirror_mode": {
    "name": "ipython",
    "version": 3
   },
   "file_extension": ".py",
   "mimetype": "text/x-python",
   "name": "python",
   "nbconvert_exporter": "python",
   "pygments_lexer": "ipython3",
   "version": "3.7.3"
  }
 },
 "nbformat": 4,
 "nbformat_minor": 4
}
