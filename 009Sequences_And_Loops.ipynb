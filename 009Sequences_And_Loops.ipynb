{
 "cells": [
  {
   "cell_type": "markdown",
   "metadata": {},
   "source": [
    "[ToC](000toc.ipynb)"
   ]
  },
  {
   "cell_type": "markdown",
   "metadata": {},
   "source": [
    "# Sequences and Loops\n",
    "\n",
    "The real power of `list`s and `tuple`s is unleashed when we pair them up with `while` loops. The fundamental concept is this: \n",
    "* a `list` is a collection of related data\n",
    "* each item in the `list` has an index that tells us where it is in the `list`\n",
    "* the indexes of all the items in the `list` form a sequence of numbers starting from 0 and going to `len(list) - 1`.\n",
    "* a `while` loop can be used to generate any sequence of numbers we need.\n",
    "* we can use a `while` loop to generate the sequence of indices for a given `list`\n",
    "\n",
    "## Looping over a `list` from front to back\n",
    "Let's look at an example."
   ]
  },
  {
   "cell_type": "code",
   "execution_count": 1,
   "metadata": {},
   "outputs": [
    {
     "name": "stdout",
     "output_type": "stream",
     "text": [
      "3\n",
      "6\n",
      "1\n",
      "8\n",
      "3\n",
      "9\n"
     ]
    }
   ],
   "source": [
    "numbers = [3, 6, 1, 8, 3, 9]\n",
    "#we can get the length of the list using len()\n",
    "numbers_length = len(numbers)\n",
    "\n",
    "#we can set up a while loop to generate the indexes of all the items in the list\n",
    "#first we need a variable to hold the index value. The index of the first item in a list is always 0.\n",
    "index = 0\n",
    "\n",
    "while index < numbers_length:   #stop the loop at the index of the last item in the list\n",
    "    value = numbers[index]      #use the index to pull one value from the list\n",
    "    print(value)                #do something with the value, let's print!\n",
    "    index += 1                  #increment the value of index so next time through the loop we get the next value\n",
    "                                #from the list\n",
    "    \n"
   ]
  },
  {
   "cell_type": "markdown",
   "metadata": {},
   "source": [
    "This is a powerful way to look at all items in a list. Because we're getting the length of the list with `len()`, we can loop over the items in a `list` of any length. The code below is exactly the same as above, except for length of the list."
   ]
  },
  {
   "cell_type": "code",
   "execution_count": 2,
   "metadata": {},
   "outputs": [
    {
     "name": "stdout",
     "output_type": "stream",
     "text": [
      "3\n",
      "6\n",
      "1\n",
      "8\n",
      "3\n",
      "9\n",
      "4\n",
      "7\n",
      "9\n",
      "2\n",
      "4\n",
      "5\n",
      "6\n"
     ]
    }
   ],
   "source": [
    "numbers = [3, 6, 1, 8, 3, 9, 4, 7, 9, 2, 4, 5, 6]\n",
    "#we can get the length of the list using len()\n",
    "numbers_length = len(numbers)\n",
    "\n",
    "#we can set up a while loop to generate the indexes of all the items in the list\n",
    "#first we need a variable to hold the index value. The index of the first item in a list is always 0.\n",
    "index = 0\n",
    "\n",
    "while index < numbers_length:   #stop the loop at the index of the last item in the list\n",
    "    value = numbers[index]      #use the index to pull one value from the list\n",
    "    print(value)                #do something with the value, let's print!\n",
    "    index += 1                  #increment the value of index so next time through the loop we get the next value\n",
    "                                #from the list\n",
    "    "
   ]
  },
  {
   "cell_type": "markdown",
   "metadata": {},
   "source": [
    "## Looping over a `list` from back to front\n",
    "We can also use a `while` loop to access all elements in a `list` from back to front. To do this, we simply generate the indexes in reverse order, starting with the last index and decrementing down to the index of the first value in the `list`, which we know is *always* 0.\n",
    "\n",
    "The trick to making this work is knowing what the index of the last value in the `list` is. Python gives us a convenient way to do this."
   ]
  },
  {
   "cell_type": "code",
   "execution_count": 3,
   "metadata": {},
   "outputs": [
    {
     "name": "stdout",
     "output_type": "stream",
     "text": [
      "len_letters ->  4\n",
      "len_nums ->  9\n",
      "len_booleans ->  5\n"
     ]
    }
   ],
   "source": [
    "## indices  \n",
    "##          0    1    2    3\n",
    "letters = ['a', 'b', 'c', 'd'] \n",
    "len_letters = len(letters)     # The value of len_letters is 4\n",
    "\n",
    "## indices\n",
    "##      0  1  2  3  4  5  6  7  8\n",
    "nums = [1, 2, 3, 4, 5, 6, 7, 8, 9] \n",
    "len_nums = len(nums)     # The value of len__nums is 9\n",
    "\n",
    "## indices\n",
    "##          0     1      2      3     4\n",
    "booleans = [True, False, False, True, True]\n",
    "len_booleans = len(booleans)    # The value of len_booleans is 5\n",
    "\n",
    "## let's make sure I'm not lying\n",
    "print(\"len_letters -> \", len_letters)\n",
    "print(\"len_nums -> \", len_nums)\n",
    "print(\"len_booleans -> \", len_booleans)"
   ]
  },
  {
   "cell_type": "markdown",
   "metadata": {},
   "source": [
    "Now, notice the relationship between the length of each `list` and the *index* of the last value contained therein.\n",
    "\n",
    "The index of the last value in each `list` is the length of the list minus 1. **This is *ALWAYS* true!**"
   ]
  },
  {
   "cell_type": "code",
   "execution_count": 4,
   "metadata": {},
   "outputs": [
    {
     "name": "stdout",
     "output_type": "stream",
     "text": [
      "last_letter ->  d\n",
      "last_num ->  9\n",
      "last_boolean ->  True\n"
     ]
    }
   ],
   "source": [
    "## To get the the index of the last value in our lists we do this...\n",
    "last_letter = letters[len_letters - 1]\n",
    "last_num = nums[len_nums - 1]\n",
    "last_boolean = booleans[len_booleans - 1]\n",
    "\n",
    "## Let's check the values...\n",
    "print(\"last_letter -> \", last_letter)\n",
    "print(\"last_num -> \", last_num)\n",
    "print(\"last_boolean -> \", last_boolean)"
   ]
  },
  {
   "cell_type": "markdown",
   "metadata": {},
   "source": [
    "Now, lets put it together to get the values in a list from last to first."
   ]
  },
  {
   "cell_type": "code",
   "execution_count": 5,
   "metadata": {},
   "outputs": [
    {
     "name": "stdout",
     "output_type": "stream",
     "text": [
      "I got bit by a fish.\n",
      "I got bit by a snake.\n",
      "I got bit by a horse.\n",
      "I got bit by a dog.\n",
      "I got bit by a cat.\n"
     ]
    }
   ],
   "source": [
    "animals = ['cat', 'dog', 'horse', 'snake', 'fish']\n",
    "len_animals = len(animals)\n",
    "animal_index = len_animals - 1 # what is  the value of animal_index\n",
    "\n",
    "while animal_index >= 0: # we want to keep going until the index is 0\n",
    "    this_animal = animals[animal_index]     # get the animal at animal_index\n",
    "    print(f\"I got bit by a {this_animal}.\") # do something with it\n",
    "    animal_index -= 1                       # decrement the index variable"
   ]
  }
 ],
 "metadata": {
  "kernelspec": {
   "display_name": "Python 3",
   "language": "python",
   "name": "python3"
  },
  "language_info": {
   "codemirror_mode": {
    "name": "ipython",
    "version": 3
   },
   "file_extension": ".py",
   "mimetype": "text/x-python",
   "name": "python",
   "nbconvert_exporter": "python",
   "pygments_lexer": "ipython3",
   "version": "3.6.9"
  }
 },
 "nbformat": 4,
 "nbformat_minor": 4
}
