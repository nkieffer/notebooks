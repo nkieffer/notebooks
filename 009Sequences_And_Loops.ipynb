{
 "cells": [
  {
   "cell_type": "markdown",
   "metadata": {},
   "source": [
    "[ToC](000toc.ipynb)"
   ]
  },
  {
   "cell_type": "markdown",
   "metadata": {},
   "source": [
    "# Sequences and Loops\n",
    "\n",
    "The real power of `list`s and `tuple`s is unleashed when we pair them up with `while` loops. The fundamental concept is this: \n",
    "* a `list` is a collection of related data\n",
    "* each item in the `list` has an index that tells us where it is in the `list`\n",
    "* the indexes of all the items in the `list` form a sequence of numbers starting from 0 and going to `len(list) - 1`.\n",
    "* a `while` loop can be used to generate any sequence of numbers we need.\n",
    "* we can use a `while` loop to generate the sequence of indices for a given `list`\n",
    "\n",
    "Let's look at an example."
   ]
  },
  {
   "cell_type": "code",
   "execution_count": 1,
   "metadata": {},
   "outputs": [
    {
     "name": "stdout",
     "output_type": "stream",
     "text": [
      "3\n",
      "6\n",
      "1\n",
      "8\n",
      "3\n",
      "9\n"
     ]
    }
   ],
   "source": [
    "numbers = [3, 6, 1, 8, 3, 9]\n",
    "#we can get the length of the list using len()\n",
    "numbers_length = len(numbers)\n",
    "\n",
    "#we can set up a while loop to generate the indexes of all the items in the list\n",
    "#first we need a variable to hold the index value. The index of the first item in a list is always 0.\n",
    "index = 0\n",
    "\n",
    "while index < numbers_length:   #stop the loop at the index of the last item in the list\n",
    "    value = numbers[index]      #use the index to pull one value from the list\n",
    "    print(value)                #do something with the value, let's print!\n",
    "    index += 1                  #increment the value of index so next time through the loop we get the next value\n",
    "                                #from the list\n",
    "    \n"
   ]
  },
  {
   "cell_type": "markdown",
   "metadata": {},
   "source": [
    "This is a powerful way to look at all items in a list. Because we're getting the length of the list with `len()`, we can loop over the items in a `list` of any length. The code below is exactly the same as above, except for length of the list."
   ]
  },
  {
   "cell_type": "code",
   "execution_count": 2,
   "metadata": {},
   "outputs": [
    {
     "name": "stdout",
     "output_type": "stream",
     "text": [
      "3\n",
      "6\n",
      "1\n",
      "8\n",
      "3\n",
      "9\n",
      "4\n",
      "7\n",
      "9\n",
      "2\n",
      "4\n",
      "5\n",
      "6\n"
     ]
    }
   ],
   "source": [
    "numbers = [3, 6, 1, 8, 3, 9, 4, 7, 9, 2, 4, 5, 6]\n",
    "#we can get the length of the list using len()\n",
    "numbers_length = len(numbers)\n",
    "\n",
    "#we can set up a while loop to generate the indexes of all the items in the list\n",
    "#first we need a variable to hold the index value. The index of the first item in a list is always 0.\n",
    "index = 0\n",
    "\n",
    "while index < numbers_length:   #stop the loop at the index of the last item in the list\n",
    "    value = numbers[index]      #use the index to pull one value from the list\n",
    "    print(value)                #do something with the value, let's print!\n",
    "    index += 1                  #increment the value of index so next time through the loop we get the next value\n",
    "                                #from the list\n",
    "    "
   ]
  },
  {
   "cell_type": "code",
   "execution_count": null,
   "metadata": {},
   "outputs": [],
   "source": []
  }
 ],
 "metadata": {
  "kernelspec": {
   "display_name": "Python 3",
   "language": "python",
   "name": "python3"
  },
  "language_info": {
   "codemirror_mode": {
    "name": "ipython",
    "version": 3
   },
   "file_extension": ".py",
   "mimetype": "text/x-python",
   "name": "python",
   "nbconvert_exporter": "python",
   "pygments_lexer": "ipython3",
   "version": "3.6.9"
  }
 },
 "nbformat": 4,
 "nbformat_minor": 4
}
