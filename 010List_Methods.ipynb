{
 "cells": [
  {
   "cell_type": "markdown",
   "metadata": {},
   "source": [
    "[ToC](000toc.ipynb)"
   ]
  },
  {
   "cell_type": "markdown",
   "metadata": {},
   "source": [
    "# `list` Methods\n",
    "\n",
    "Python `list`s provide many built-in functions to manipulate the contents. For the purposes of the examples below, we will be using `list`s that contain `int` values, but the `list` could contain any type of data.\n"
   ]
  },
  {
   "cell_type": "code",
   "execution_count": 1,
   "metadata": {},
   "outputs": [
    {
     "name": "stdout",
     "output_type": "stream",
     "text": [
      "[1, 1, 2, 3, 5, 8, 13]\n"
     ]
    }
   ],
   "source": [
    "#our list of numbers\n",
    "numbers = [1, 1, 2, 3, 5, 8, 13]\n",
    "print(numbers)"
   ]
  },
  {
   "cell_type": "markdown",
   "metadata": {},
   "source": [
    "## `numbers.append(v)`\n",
    "\n",
    "The append method allows you to add a new item onto the end of the `list`."
   ]
  },
  {
   "cell_type": "code",
   "execution_count": 2,
   "metadata": {},
   "outputs": [
    {
     "name": "stdout",
     "output_type": "stream",
     "text": [
      "[1, 1, 2, 3, 5, 8, 13, 21]\n"
     ]
    }
   ],
   "source": [
    "numbers.append(21)\n",
    "print(numbers)"
   ]
  },
  {
   "cell_type": "markdown",
   "metadata": {},
   "source": [
    "## `numbers.insert(index, value)`\n",
    "\n",
    "The `insert` method allows you to put a new value into a `list` at any index. All values with indexes higher than the `index` argument will be shifted to the right in the `list`."
   ]
  },
  {
   "cell_type": "code",
   "execution_count": 3,
   "metadata": {},
   "outputs": [
    {
     "name": "stdout",
     "output_type": "stream",
     "text": [
      "[-1, 1, 1, 2, 3, 5, 8, 13, 21]\n"
     ]
    }
   ],
   "source": [
    "#insert a new value into the list at index 0.\n",
    "numbers.insert(0, -1)\n",
    "print(numbers)"
   ]
  },
  {
   "cell_type": "code",
   "execution_count": 4,
   "metadata": {},
   "outputs": [
    {
     "name": "stdout",
     "output_type": "stream",
     "text": [
      "[-1, 1, 1, 2, 23, 3, 5, 8, 13, 21]\n"
     ]
    }
   ],
   "source": [
    "#insert a new value into the list at index 4\n",
    "numbers.insert(4, 23)\n",
    "print(numbers)"
   ]
  },
  {
   "cell_type": "code",
   "execution_count": 5,
   "metadata": {},
   "outputs": [
    {
     "name": "stdout",
     "output_type": "stream",
     "text": [
      "5\n",
      "[-1, 1, 1, 2, 23, 100, 3, 5, 8, 13, 21]\n"
     ]
    }
   ],
   "source": [
    "#insert a new value into the middle of the list\n",
    "#first get the index of the middle of the list\n",
    "middle_index = len(numbers) // 2  # we use // so that  the result is an int. \n",
    "print(middle_index)\n",
    "\n",
    "#next, add a new value at that index\n",
    "numbers.insert(middle_index, 100)\n",
    "print(numbers)"
   ]
  },
  {
   "cell_type": "code",
   "execution_count": 6,
   "metadata": {},
   "outputs": [
    {
     "name": "stdout",
     "output_type": "stream",
     "text": [
      "[-1, 1, 1, 2, 23, 100, 3, 5, 8, 13, 21, 1000]\n"
     ]
    }
   ],
   "source": [
    "#what happens if the index higher than the length of the list?\n",
    "numbers.insert(100, 1000)\n",
    "print(numbers)"
   ]
  },
  {
   "cell_type": "markdown",
   "metadata": {},
   "source": [
    "## `numbers.extend(another_list)`\n",
    "\n",
    "The `extend` method allows you to add another `list` onto the end of a given `list`."
   ]
  },
  {
   "cell_type": "code",
   "execution_count": 8,
   "metadata": {},
   "outputs": [
    {
     "name": "stdout",
     "output_type": "stream",
     "text": [
      "[-1, 1, 1, 2, 23, 100, 3, 5, 8, 13, 21, 1000, 35, 36, 37, 35, 36, 37]\n"
     ]
    }
   ],
   "source": [
    "numbers2 = [35, 36, 37]\n",
    "numbers.extend(numbers2)\n",
    "print(numbers)"
   ]
  },
  {
   "cell_type": "code",
   "execution_count": 11,
   "metadata": {},
   "outputs": [
    {
     "name": "stdout",
     "output_type": "stream",
     "text": [
      "[-1, 1, 1, 2, 23, 100, 3, 5, 8, 13, 21, 1000, 35, 36, 37, 35, 36, 37, 45, 46, 47, 45, 46, 47, 45, 46, 47]\n"
     ]
    }
   ],
   "source": [
    "#You can also concatenate lists with the + operator\n",
    "numbers = numbers + [45, 46, 47]\n",
    "print(numbers)"
   ]
  },
  {
   "cell_type": "markdown",
   "metadata": {},
   "source": [
    "## `numbers.remove("
   ]
  }
 ],
 "metadata": {
  "kernelspec": {
   "display_name": "Python 3",
   "language": "python",
   "name": "python3"
  },
  "language_info": {
   "codemirror_mode": {
    "name": "ipython",
    "version": 3
   },
   "file_extension": ".py",
   "mimetype": "text/x-python",
   "name": "python",
   "nbconvert_exporter": "python",
   "pygments_lexer": "ipython3",
   "version": "3.8.7"
  }
 },
 "nbformat": 4,
 "nbformat_minor": 4
}
