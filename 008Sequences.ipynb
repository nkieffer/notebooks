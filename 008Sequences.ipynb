{
 "cells": [
  {
   "cell_type": "markdown",
   "metadata": {},
   "source": [
    "[ToC](000toc.ipynb)"
   ]
  },
  {
   "cell_type": "markdown",
   "metadata": {},
   "source": [
    "# Sequences\n",
    "\n",
    "So far, all of the data we've been handling so far with Python has been very simple. It has all been of the few basic types we've encountered, namely:\n",
    "* `int`\n",
    "* `float`\n",
    "* `str`\n",
    "* `bool`\n",
    "\n",
    "We know what these are and how we can use them to represent entities that we wish to model in our programs. Sometimes, however, theses simple types are inadequate because the entities we are trying to model are not simple. They are compound entities made up from multiple parts. In order to be able to model these types of things we need some compound data types that can be made up from parts. The two most basic types that Python provides to accomplish this are listed below.\n",
    "* `tuple`\n",
    "* `list`"
   ]
  },
  {
   "cell_type": "markdown",
   "metadata": {},
   "source": [
    "## `tuple`\n",
    "The `tuple` is used to model entities that have more than one feature or property that we want to manipulate in our programs. A `tuple` allows us to gather multiple values together into 1 compound value. `tuple`s are **heterogeneous** datatypes. This means that each value contained in the `tuple` can be of a different type. `tuple`s are also **immutable** datatypes. This means that once the `tuple` is created, it cannot be modified; it's contents are \"set in stone\".\n",
    "\n",
    "### Packing and Unpacking\n",
    "Thus far, if we wanted to model something with multiple properties, like a person, we would do it as follows: "
   ]
  },
  {
   "cell_type": "code",
   "execution_count": 1,
   "metadata": {},
   "outputs": [],
   "source": [
    "name = \"Steve\"\n",
    "age = 25\n",
    "height = 1.86\n",
    "single = False"
   ]
  },
  {
   "cell_type": "markdown",
   "metadata": {},
   "source": [
    "The individual person is represented with four variables, `name`, `age`, `height`, and `single`. Each of them contain one single value, `str`, `int`, `float`, and `bool` respectively. If we wanted to model another person, we've had to use additional variables:"
   ]
  },
  {
   "cell_type": "code",
   "execution_count": 2,
   "metadata": {},
   "outputs": [],
   "source": [
    "name2 = \"Sara\"\n",
    "age2 = 26\n",
    "height2 = 1.56\n",
    "single2 = True"
   ]
  },
  {
   "cell_type": "markdown",
   "metadata": {},
   "source": [
    "If you need to model *another* person, you would have to use for *more* variables. You would have to do this for each and every additional person you want to model in your program. This will very quickly become very hard to think about, let alone write code to manipulate it.\n",
    "\n",
    "Using `tuple`s allows us to avoid this problem. They allow us to **pack** all of the values about each person into one value which can be manipulated collectively. "
   ]
  },
  {
   "cell_type": "code",
   "execution_count": 3,
   "metadata": {},
   "outputs": [],
   "source": [
    "person1 = (\"Steve\", 25, 1.86, False)\n",
    "person2 = \"Sara\", 26, 1.56, True"
   ]
  },
  {
   "cell_type": "markdown",
   "metadata": {},
   "source": [
    "As you can see, the syntax for creating a `tuple` is very simple. Simply separate all of the values you wish to pack together them with commas. You *may* include parentheses to make it clearer that you are using a `tuple`."
   ]
  },
  {
   "cell_type": "code",
   "execution_count": 4,
   "metadata": {},
   "outputs": [
    {
     "name": "stdout",
     "output_type": "stream",
     "text": [
      "('Steve', 25, 1.86, False)\n"
     ]
    }
   ],
   "source": [
    "print(person1)"
   ]
  },
  {
   "cell_type": "code",
   "execution_count": 5,
   "metadata": {},
   "outputs": [
    {
     "name": "stdout",
     "output_type": "stream",
     "text": [
      "('Sara', 26, 1.56, True)\n"
     ]
    }
   ],
   "source": [
    "print(person2)"
   ]
  },
  {
   "cell_type": "markdown",
   "metadata": {},
   "source": [
    "As you can see, when we access the value stored in `person1` and print it, we see all four values that we included when we created the `tuple`. The same is true of `person2`.\n",
    "\n",
    "Once we have the values packed into a `tuple`, we can then **unpack** them whenever we need them."
   ]
  },
  {
   "cell_type": "code",
   "execution_count": 6,
   "metadata": {},
   "outputs": [
    {
     "name": "stdout",
     "output_type": "stream",
     "text": [
      "Steve\n",
      "25\n",
      "1.86\n",
      "False\n"
     ]
    }
   ],
   "source": [
    "(name, age, height, single) = person1\n",
    "print(name)\n",
    "print(age)\n",
    "print(height)\n",
    "print(single)"
   ]
  },
  {
   "cell_type": "markdown",
   "metadata": {},
   "source": [
    "*Note: You can omit the parentheses when you unpack the values in the tuple*"
   ]
  },
  {
   "cell_type": "code",
   "execution_count": 7,
   "metadata": {},
   "outputs": [
    {
     "name": "stdout",
     "output_type": "stream",
     "text": [
      "Sara\n",
      "26\n",
      "1.56\n",
      "True\n"
     ]
    }
   ],
   "source": [
    "name, age, height, single = person2\n",
    "print(name)\n",
    "print(age)\n",
    "print(height)\n",
    "print(single)"
   ]
  },
  {
   "cell_type": "markdown",
   "metadata": {},
   "source": [
    "### Indexing\n",
    "\n",
    "In addition to packing and unpacking the entire tuple, we can also access values in a tuple by **index**. Each value in a tuple has an index number associated with it. The indexes always start from 0 and increase by one for each additional value stored in the `tuple`. To use indexes you use what is refered to as **square bracket notation**."
   ]
  },
  {
   "cell_type": "code",
   "execution_count": 8,
   "metadata": {},
   "outputs": [
    {
     "name": "stdout",
     "output_type": "stream",
     "text": [
      "The first persons name:\n",
      "Steve\n",
      "The second persons name:\n",
      "Sara\n"
     ]
    }
   ],
   "source": [
    "#We stored the first name of each person in the first slot in the tuple.\n",
    "#The index of the first slot is 0.\n",
    "print(\"The first persons name:\")\n",
    "print(person1[0])\n",
    "print(\"The second persons name:\")\n",
    "print(person2[0])"
   ]
  },
  {
   "cell_type": "code",
   "execution_count": 9,
   "metadata": {},
   "outputs": [
    {
     "name": "stdout",
     "output_type": "stream",
     "text": [
      "The first persons age:\n",
      "25\n",
      "The second persons age:\n",
      "26\n"
     ]
    }
   ],
   "source": [
    "#We stored the age of each person in the second slot in the tuple.\n",
    "#The index of the second slot is 1.\n",
    "print(\"The first persons age:\")\n",
    "print(person1[1])\n",
    "print(\"The second persons age:\")\n",
    "print(person2[1])"
   ]
  },
  {
   "cell_type": "code",
   "execution_count": 10,
   "metadata": {},
   "outputs": [
    {
     "name": "stdout",
     "output_type": "stream",
     "text": [
      "The first persons age:\n",
      "1.86\n",
      "The second persons age:\n",
      "1.56\n"
     ]
    }
   ],
   "source": [
    "#We stored the height of each person in the third slot in the tuple.\n",
    "#The index of the third slot is 2.\n",
    "print(\"The first persons age:\")\n",
    "print(person1[2])\n",
    "print(\"The second persons age:\")\n",
    "print(person2[2])"
   ]
  },
  {
   "cell_type": "code",
   "execution_count": 11,
   "metadata": {},
   "outputs": [
    {
     "name": "stdout",
     "output_type": "stream",
     "text": [
      "The first person is single:\n",
      "False\n",
      "The second person is single:\n",
      "True\n"
     ]
    }
   ],
   "source": [
    "#We stored the marital status of each person in the fourth slot in the tuple.\n",
    "#The index of the second slot is 3.\n",
    "print(\"The first person is single:\")\n",
    "print(person1[3])\n",
    "print(\"The second person is single:\")\n",
    "print(person2[3])"
   ]
  },
  {
   "cell_type": "markdown",
   "metadata": {},
   "source": [
    "It's important to keep in mind that the slots in a `tuple` only have meaning because you, the programmer, says that they do. Python does not require that you put data in a tuple in any particular order. It is important that you structure your `tuple`s consistently when you use them. In this example, where we've modeled a person, we've always used the first slot to contain the name, the second to contain the age, the third to contain the height, and the fourth to contain the marital status. We could do it anyway we want, but it's important to choose the way that makes the most sense in your program and to apply it consistently."
   ]
  },
  {
   "cell_type": "markdown",
   "metadata": {},
   "source": [
    "We can only access the values in a tuple using square bracket notations, we cannot change the values. If you attempt to, you will get the `TypeError` message below."
   ]
  },
  {
   "cell_type": "code",
   "execution_count": 12,
   "metadata": {},
   "outputs": [
    {
     "ename": "TypeError",
     "evalue": "'tuple' object does not support item assignment",
     "output_type": "error",
     "traceback": [
      "\u001b[0;31m---------------------------------------------------------------------------\u001b[0m",
      "\u001b[0;31mTypeError\u001b[0m                                 Traceback (most recent call last)",
      "\u001b[0;32m<ipython-input-12-460a1c4fcdf5>\u001b[0m in \u001b[0;36m<module>\u001b[0;34m\u001b[0m\n\u001b[0;32m----> 1\u001b[0;31m \u001b[0mperson1\u001b[0m\u001b[0;34m[\u001b[0m\u001b[0;36m0\u001b[0m\u001b[0;34m]\u001b[0m \u001b[0;34m=\u001b[0m \u001b[0;34m\"Ralph\"\u001b[0m\u001b[0;34m\u001b[0m\u001b[0;34m\u001b[0m\u001b[0m\n\u001b[0m",
      "\u001b[0;31mTypeError\u001b[0m: 'tuple' object does not support item assignment"
     ]
    }
   ],
   "source": [
    "person1[0] = \"Ralph\""
   ]
  },
  {
   "cell_type": "markdown",
   "metadata": {},
   "source": [
    "This is important to remember because it reflects a fundamental property of the `tuple` datatype: they are **immutable**. This means that once created, the contents of a `tuple` cannot be changed."
   ]
  },
  {
   "cell_type": "markdown",
   "metadata": {},
   "source": [
    "## Useful `tuple` Functions\n",
    "\n",
    "We can always get the number of values contained in a `tuple`."
   ]
  },
  {
   "cell_type": "code",
   "execution_count": 13,
   "metadata": {},
   "outputs": [
    {
     "name": "stdout",
     "output_type": "stream",
     "text": [
      "4\n",
      "4\n"
     ]
    }
   ],
   "source": [
    "print(len(person1))\n",
    "print(len(person2))"
   ]
  },
  {
   "cell_type": "markdown",
   "metadata": {},
   "source": [
    "We can count the number of times a value occurs in a `tuple`."
   ]
  },
  {
   "cell_type": "code",
   "execution_count": 16,
   "metadata": {},
   "outputs": [
    {
     "name": "stdout",
     "output_type": "stream",
     "text": [
      "1\n",
      "0\n",
      "0\n"
     ]
    }
   ],
   "source": [
    "print(person1.count(\"Steve\"))\n",
    "print(person1.count(\"steve\"))\n",
    "print(person1.count(29))"
   ]
  }
 ],
 "metadata": {
  "kernelspec": {
   "display_name": "Python 3",
   "language": "python",
   "name": "python3"
  },
  "language_info": {
   "codemirror_mode": {
    "name": "ipython",
    "version": 3
   },
   "file_extension": ".py",
   "mimetype": "text/x-python",
   "name": "python",
   "nbconvert_exporter": "python",
   "pygments_lexer": "ipython3",
   "version": "3.6.9"
  }
 },
 "nbformat": 4,
 "nbformat_minor": 4
}
